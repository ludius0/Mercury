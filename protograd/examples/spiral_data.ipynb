{
 "cells": [
  {
   "cell_type": "markdown",
   "metadata": {},
   "source": [
    "# # Import"
   ]
  },
  {
   "cell_type": "code",
   "execution_count": 1,
   "metadata": {},
   "outputs": [
    {
     "name": "stdout",
     "output_type": "stream",
     "text": [
      "Imported!\n"
     ]
    }
   ],
   "source": [
    "import numpy as np\n",
    "from tqdm.notebook import trange\n",
    "np.set_printoptions(suppress=True)\n",
    "\n",
    "from protograd.tensor import Tensor\n",
    "from protograd.nn import LinearLayer, ReLU\n",
    "from protograd.loss_function import SoftmaxCrossEntropyLoss, CrossEntropyLoss\n",
    "from protograd.optim import Adam\n",
    "from protograd.generate_data import spiral\n",
    "print(\"Imported!\")"
   ]
  },
  {
   "cell_type": "markdown",
   "metadata": {},
   "source": [
    "# # Spiral data (check shape)"
   ]
  },
  {
   "cell_type": "code",
   "execution_count": 2,
   "metadata": {},
   "outputs": [
    {
     "name": "stdout",
     "output_type": "stream",
     "text": [
      "(300, 2) (300,)\n"
     ]
    }
   ],
   "source": [
    "X, y = spiral(100, 3)\n",
    "print(X.shape, y.shape)"
   ]
  },
  {
   "cell_type": "markdown",
   "metadata": {},
   "source": [
    "# # Neural Network structure"
   ]
  },
  {
   "cell_type": "code",
   "execution_count": 3,
   "metadata": {},
   "outputs": [],
   "source": [
    "# NN structure\n",
    "fc1 = LinearLayer(2, 128)\n",
    "relu = ReLU()\n",
    "fc2 = LinearLayer(128, 128)\n",
    "relu2 = ReLU()\n",
    "fc3 = LinearLayer(128, 3)\n",
    "\n",
    "loss_f = SoftmaxCrossEntropyLoss()\n",
    "optimizer = Adam([fc1, fc2], learning_rate=0.05, decay=5e-7)"
   ]
  },
  {
   "cell_type": "markdown",
   "metadata": {},
   "source": [
    "# # Training"
   ]
  },
  {
   "cell_type": "code",
   "execution_count": 5,
   "metadata": {},
   "outputs": [
    {
     "data": {
      "application/vnd.jupyter.widget-view+json": {
       "model_id": "95351fb72db3400abe39482d501b1fb9",
       "version_major": 2,
       "version_minor": 0
      },
      "text/plain": [
       "HBox(children=(FloatProgress(value=0.0, max=10001.0), HTML(value='')))"
      ]
     },
     "metadata": {},
     "output_type": "display_data"
    },
    {
     "name": "stdout",
     "output_type": "stream",
     "text": [
      "\n"
     ]
    }
   ],
   "source": [
    "t = trange(10001)\n",
    "for epoch in t:\n",
    "    X, y = spiral(samples=100, classes=3)\n",
    "    X, y = Tensor(X), Tensor(y)\n",
    "    \n",
    "    output = fc1(X)\n",
    "    output = relu(output)\n",
    "    output = fc2(output)\n",
    "    output = relu2(output)\n",
    "    output = fc3(output)\n",
    "    loss = loss_f(output, y)\n",
    "\n",
    "    # measure output\n",
    "    prediction = np.argmax(loss_f.output, axis=1)\n",
    "    if len(y.shape) == 2:\n",
    "        y = np.argmax(y, axis=1)\n",
    "    accuracy = np.mean(prediction==y)\n",
    "\n",
    "    # Backward\n",
    "    output.backward()\n",
    "    output.clear_grad()\n",
    "    optimizer.step()\n",
    "\n",
    "    t.set_description(f\"epoch: {epoch}, \" + f\"acc: {100*accuracy:.3f}%, \" + f\"loss: {loss:.3f}, \" + f\"lr: {optimizer.current_learning_rate:.7f}\")"
   ]
  },
  {
   "cell_type": "code",
   "execution_count": null,
   "metadata": {},
   "outputs": [],
   "source": []
  }
 ],
 "metadata": {
  "kernelspec": {
   "display_name": "Python 3",
   "language": "python",
   "name": "python3"
  },
  "language_info": {
   "codemirror_mode": {
    "name": "ipython",
    "version": 3
   },
   "file_extension": ".py",
   "mimetype": "text/x-python",
   "name": "python",
   "nbconvert_exporter": "python",
   "pygments_lexer": "ipython3",
   "version": "3.7.6"
  }
 },
 "nbformat": 4,
 "nbformat_minor": 4
}
